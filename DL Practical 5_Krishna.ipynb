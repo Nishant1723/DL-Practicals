{
 "cells": [
  {
   "cell_type": "code",
   "execution_count": 50,
   "id": "d7af368d-8c8a-470d-a553-6dc826a89968",
   "metadata": {},
   "outputs": [],
   "source": [
    "import numpy as np\n",
    "import re"
   ]
  },
  {
   "cell_type": "code",
   "execution_count": 52,
   "id": "896722ba-b361-4cea-a105-75f57d305157",
   "metadata": {},
   "outputs": [
    {
     "data": {
      "text/plain": [
       "'Artificial intelligence (AI) is transforming various industries by enabling machines to perform tasks that typically require human intelligence. One key area within AI is deep learning, which uses neural networks to model complex patterns in large datasets. These models can be trained in different ways, including supervised and unsupervised learning. Deep learning has led to significant advancements in technologies such as autonomous vehicles, voice-activated virtual assistants, medical diagnostics, and predictive analytics. By processing vast amounts of data, deep learning algorithms are able to recognize images, translate languages, and even predict future trends, driving innovation across numerous fields.'"
      ]
     },
     "execution_count": 52,
     "metadata": {},
     "output_type": "execute_result"
    }
   ],
   "source": [
    "data = \"\"\"Artificial intelligence (AI) is transforming various industries by enabling machines to perform tasks that typically require human intelligence. One key area within AI is deep learning, which uses neural networks to model complex patterns in large datasets. These models can be trained in different ways, including supervised and unsupervised learning. Deep learning has led to significant advancements in technologies such as autonomous vehicles, voice-activated virtual assistants, medical diagnostics, and predictive analytics. By processing vast amounts of data, deep learning algorithms are able to recognize images, translate languages, and even predict future trends, driving innovation across numerous fields.\"\"\"\n",
    "data"
   ]
  },
  {
   "cell_type": "code",
   "execution_count": 54,
   "id": "b3dc032e-d25e-4aa1-96be-71c590c661f0",
   "metadata": {},
   "outputs": [
    {
     "data": {
      "text/plain": [
       "['Artificial intelligence (AI) is transforming various industries by enabling machines to perform tasks that typically require human intelligence',\n",
       " ' One key area within AI is deep learning, which uses neural networks to model complex patterns in large datasets',\n",
       " ' These models can be trained in different ways, including supervised and unsupervised learning',\n",
       " ' Deep learning has led to significant advancements in technologies such as autonomous vehicles, voice-activated virtual assistants, medical diagnostics, and predictive analytics',\n",
       " ' By processing vast amounts of data, deep learning algorithms are able to recognize images, translate languages, and even predict future trends, driving innovation across numerous fields',\n",
       " '']"
      ]
     },
     "execution_count": 54,
     "metadata": {},
     "output_type": "execute_result"
    }
   ],
   "source": [
    "sentences = data.split('.')\n",
    "sentences"
   ]
  },
  {
   "cell_type": "code",
   "execution_count": 56,
   "id": "db05f0a9-4011-41dd-ae5a-206cfbef15fa",
   "metadata": {},
   "outputs": [
    {
     "data": {
      "text/plain": [
       "['artificial intelligence ai is transforming various industries by enabling machines to perform tasks that typically require human intelligence',\n",
       " 'one key area within ai is deep learning which uses neural networks to model complex patterns in large datasets',\n",
       " 'these models can be trained in different ways including supervised and unsupervised learning',\n",
       " 'deep learning has led to significant advancements in technologies such as autonomous vehicles voice activated virtual assistants medical diagnostics and predictive analytics',\n",
       " 'by processing vast amounts of data deep learning algorithms are able to recognize images translate languages and even predict future trends driving innovation across numerous fields']"
      ]
     },
     "execution_count": 56,
     "metadata": {},
     "output_type": "execute_result"
    }
   ],
   "source": [
    "clean_sent=[]\n",
    "for sentence in sentences:\n",
    "    if sentence==\"\":\n",
    "        continue\n",
    "    sentence = re.sub('[^A-Za-z0-9]+', ' ', (sentence))\n",
    "    sentence = re.sub(r'(?:^| )\\w (?:$| )', ' ', (sentence)).strip()\n",
    "    sentence = sentence.lower()\n",
    "    clean_sent.append(sentence)\n",
    "\n",
    "clean_sent"
   ]
  },
  {
   "cell_type": "code",
   "execution_count": 58,
   "id": "e5477fed-484e-4fee-9c9c-3f43bc137af4",
   "metadata": {},
   "outputs": [],
   "source": [
    "from tensorflow.keras.preprocessing.text import Tokenizer"
   ]
  },
  {
   "cell_type": "code",
   "execution_count": 60,
   "id": "369d6809-986e-46c7-aad5-329a3f480eef",
   "metadata": {},
   "outputs": [
    {
     "name": "stdout",
     "output_type": "stream",
     "text": [
      "[[10, 6, 7, 8, 11, 12, 13, 9, 14, 15, 1, 16, 17, 18, 19, 20, 21, 6], [22, 23, 24, 25, 7, 8, 3, 2, 26, 27, 28, 29, 1, 30, 31, 32, 4, 33, 34], [35, 36, 37, 38, 39, 4, 40, 41, 42, 43, 5, 44, 2], [3, 2, 45, 46, 1, 47, 48, 4, 49, 50, 51, 52, 53, 54, 55, 56, 57, 58, 59, 5, 60, 61], [9, 62, 63, 64, 65, 66, 3, 2, 67, 68, 69, 1, 70, 71, 72, 73, 5, 74, 75, 76, 77, 78, 79, 80, 81, 82]]\n"
     ]
    }
   ],
   "source": [
    "tokenizer = Tokenizer()\n",
    "tokenizer.fit_on_texts(clean_sent)\n",
    "sequences = tokenizer.texts_to_sequences(clean_sent)\n",
    "print(sequences)"
   ]
  },
  {
   "cell_type": "code",
   "execution_count": 62,
   "id": "c49d497c-24f3-493b-9291-c25e19b58662",
   "metadata": {},
   "outputs": [
    {
     "name": "stdout",
     "output_type": "stream",
     "text": [
      "Vocabulary Size: 82\n",
      "{10: 'artificial', 6: 'intelligence', 7: 'ai', 8: 'is', 11: 'transforming', 12: 'various', 13: 'industries', 9: 'by', 14: 'enabling', 15: 'machines', 1: 'to', 16: 'perform', 17: 'tasks', 18: 'that', 19: 'typically', 20: 'require', 21: 'human', 22: 'one', 23: 'key', 24: 'area', 25: 'within', 3: 'deep', 2: 'learning', 26: 'which', 27: 'uses', 28: 'neural', 29: 'networks', 30: 'model', 31: 'complex', 32: 'patterns', 4: 'in', 33: 'large', 34: 'datasets', 35: 'these', 36: 'models', 37: 'can', 38: 'be', 39: 'trained', 40: 'different', 41: 'ways', 42: 'including', 43: 'supervised', 5: 'and', 44: 'unsupervised', 45: 'has', 46: 'led', 47: 'significant', 48: 'advancements', 49: 'technologies', 50: 'such', 51: 'as', 52: 'autonomous', 53: 'vehicles', 54: 'voice', 55: 'activated', 56: 'virtual', 57: 'assistants', 58: 'medical', 59: 'diagnostics', 60: 'predictive', 61: 'analytics', 62: 'processing', 63: 'vast', 64: 'amounts', 65: 'of', 66: 'data', 67: 'algorithms', 68: 'are', 69: 'able', 70: 'recognize', 71: 'images', 72: 'translate', 73: 'languages', 74: 'even', 75: 'predict', 76: 'future', 77: 'trends', 78: 'driving', 79: 'innovation', 80: 'across', 81: 'numerous', 82: 'fields'} \n",
      "\n",
      "{'artificial': 10, 'intelligence': 6, 'ai': 7, 'is': 8, 'transforming': 11, 'various': 12, 'industries': 13, 'by': 9, 'enabling': 14, 'machines': 15, 'to': 1, 'perform': 16, 'tasks': 17, 'that': 18, 'typically': 19, 'require': 20, 'human': 21, 'one': 22, 'key': 23, 'area': 24, 'within': 25, 'deep': 3, 'learning': 2, 'which': 26, 'uses': 27, 'neural': 28, 'networks': 29, 'model': 30, 'complex': 31, 'patterns': 32, 'in': 4, 'large': 33, 'datasets': 34, 'these': 35, 'models': 36, 'can': 37, 'be': 38, 'trained': 39, 'different': 40, 'ways': 41, 'including': 42, 'supervised': 43, 'and': 5, 'unsupervised': 44, 'has': 45, 'led': 46, 'significant': 47, 'advancements': 48, 'technologies': 49, 'such': 50, 'as': 51, 'autonomous': 52, 'vehicles': 53, 'voice': 54, 'activated': 55, 'virtual': 56, 'assistants': 57, 'medical': 58, 'diagnostics': 59, 'predictive': 60, 'analytics': 61, 'processing': 62, 'vast': 63, 'amounts': 64, 'of': 65, 'data': 66, 'algorithms': 67, 'are': 68, 'able': 69, 'recognize': 70, 'images': 71, 'translate': 72, 'languages': 73, 'even': 74, 'predict': 75, 'future': 76, 'trends': 77, 'driving': 78, 'innovation': 79, 'across': 80, 'numerous': 81, 'fields': 82}\n"
     ]
    }
   ],
   "source": [
    "index_to_word = {}\n",
    "word_to_index = {}\n",
    "word2id = tokenizer.word_index\n",
    "\n",
    "for i, sequence in enumerate(sequences):\n",
    "    word_in_sentence = clean_sent[i].split()\n",
    "  \n",
    "    for j, value in enumerate(sequence):\n",
    "        index_to_word[value] = word_in_sentence[j]\n",
    "        word_to_index[word_in_sentence[j]] = value\n",
    "        \n",
    "vocab_size = len(word2id)\n",
    "print('Vocabulary Size:', vocab_size)\n",
    "print(index_to_word, \"\\n\")\n",
    "print(word_to_index)"
   ]
  },
  {
   "cell_type": "code",
   "execution_count": 64,
   "id": "47c7ad2f-9755-4adb-b733-eb3219930248",
   "metadata": {},
   "outputs": [
    {
     "name": "stdout",
     "output_type": "stream",
     "text": [
      "[[10, 6, 8, 11], [6, 7, 11, 12], [7, 8, 12, 13], [8, 11, 13, 9], [11, 12, 9, 14], [12, 13, 14, 15], [13, 9, 15, 1], [9, 14, 1, 16], [14, 15, 16, 17], [15, 1, 17, 18], [1, 16, 18, 19], [16, 17, 19, 20], [17, 18, 20, 21], [18, 19, 21, 6], [22, 23, 25, 7], [23, 24, 7, 8], [24, 25, 8, 3], [25, 7, 3, 2], [7, 8, 2, 26], [8, 3, 26, 27], [3, 2, 27, 28], [2, 26, 28, 29], [26, 27, 29, 1], [27, 28, 1, 30], [28, 29, 30, 31], [29, 1, 31, 32], [1, 30, 32, 4], [30, 31, 4, 33], [31, 32, 33, 34], [35, 36, 38, 39], [36, 37, 39, 4], [37, 38, 4, 40], [38, 39, 40, 41], [39, 4, 41, 42], [4, 40, 42, 43], [40, 41, 43, 5], [41, 42, 5, 44], [42, 43, 44, 2], [3, 2, 46, 1], [2, 45, 1, 47], [45, 46, 47, 48], [46, 1, 48, 4], [1, 47, 4, 49], [47, 48, 49, 50], [48, 4, 50, 51], [4, 49, 51, 52], [49, 50, 52, 53], [50, 51, 53, 54], [51, 52, 54, 55], [52, 53, 55, 56], [53, 54, 56, 57], [54, 55, 57, 58], [55, 56, 58, 59], [56, 57, 59, 5], [57, 58, 5, 60], [58, 59, 60, 61], [9, 62, 64, 65], [62, 63, 65, 66], [63, 64, 66, 3], [64, 65, 3, 2], [65, 66, 2, 67], [66, 3, 67, 68], [3, 2, 68, 69], [2, 67, 69, 1], [67, 68, 1, 70], [68, 69, 70, 71], [69, 1, 71, 72], [1, 70, 72, 73], [70, 71, 73, 5], [71, 72, 5, 74], [72, 73, 74, 75], [73, 5, 75, 76], [5, 74, 76, 77], [74, 75, 77, 78], [75, 76, 78, 79], [76, 77, 79, 80], [77, 78, 80, 81], [78, 79, 81, 82]] \n",
      "\n",
      "[7, 8, 11, 12, 13, 9, 14, 15, 1, 16, 17, 18, 19, 20, 24, 25, 7, 8, 3, 2, 26, 27, 28, 29, 1, 30, 31, 32, 4, 37, 38, 39, 4, 40, 41, 42, 43, 5, 45, 46, 1, 47, 48, 4, 49, 50, 51, 52, 53, 54, 55, 56, 57, 58, 59, 5, 63, 64, 65, 66, 3, 2, 67, 68, 69, 1, 70, 71, 72, 73, 5, 74, 75, 76, 77, 78, 79, 80]\n"
     ]
    }
   ],
   "source": [
    "vocab_size = len(tokenizer.word_index) + 1\n",
    "emb_size = 10\n",
    "context_size = 2\n",
    "\n",
    "contexts = []\n",
    "targets = []\n",
    "\n",
    "for sequence in sequences:\n",
    "    for i in range(context_size, len(sequence) - context_size):\n",
    "        target = sequence[i]\n",
    "        context = [sequence[i - 2], sequence[i - 1], sequence[i + 1], sequence[i + 2]]\n",
    "        contexts.append(context)\n",
    "        targets.append(target)\n",
    "print(contexts, \"\\n\")\n",
    "print(targets)"
   ]
  },
  {
   "cell_type": "code",
   "execution_count": 66,
   "id": "d0b5a000-62ed-404d-8c11-f4308baa1403",
   "metadata": {},
   "outputs": [
    {
     "name": "stdout",
     "output_type": "stream",
     "text": [
      "['artificial', 'intelligence', 'is', 'transforming']  ->  ai\n",
      "['intelligence', 'ai', 'transforming', 'various']  ->  is\n",
      "['ai', 'is', 'various', 'industries']  ->  transforming\n",
      "['is', 'transforming', 'industries', 'by']  ->  various\n",
      "['transforming', 'various', 'by', 'enabling']  ->  industries\n"
     ]
    }
   ],
   "source": [
    "for i in range(5):\n",
    "    words = []\n",
    "    target = index_to_word.get(targets[i])\n",
    "    for j in contexts[i]:\n",
    "        words.append(index_to_word.get(j))\n",
    "    print(words,\" -> \", target)"
   ]
  },
  {
   "cell_type": "code",
   "execution_count": 68,
   "id": "e2362389-d828-4503-90c3-467d5142c6e6",
   "metadata": {},
   "outputs": [],
   "source": [
    "X = np.array(contexts)\n",
    "Y = np.array(targets)"
   ]
  },
  {
   "cell_type": "code",
   "execution_count": 70,
   "id": "0796bfed-d8c9-45ad-a47b-0ea6f7f849d0",
   "metadata": {},
   "outputs": [
    {
     "name": "stdout",
     "output_type": "stream",
     "text": [
      "[[10  6  8 11]\n",
      " [ 6  7 11 12]\n",
      " [ 7  8 12 13]\n",
      " [ 8 11 13  9]\n",
      " [11 12  9 14]\n",
      " [12 13 14 15]\n",
      " [13  9 15  1]\n",
      " [ 9 14  1 16]\n",
      " [14 15 16 17]\n",
      " [15  1 17 18]\n",
      " [ 1 16 18 19]\n",
      " [16 17 19 20]\n",
      " [17 18 20 21]\n",
      " [18 19 21  6]\n",
      " [22 23 25  7]\n",
      " [23 24  7  8]\n",
      " [24 25  8  3]\n",
      " [25  7  3  2]\n",
      " [ 7  8  2 26]\n",
      " [ 8  3 26 27]\n",
      " [ 3  2 27 28]\n",
      " [ 2 26 28 29]\n",
      " [26 27 29  1]\n",
      " [27 28  1 30]\n",
      " [28 29 30 31]\n",
      " [29  1 31 32]\n",
      " [ 1 30 32  4]\n",
      " [30 31  4 33]\n",
      " [31 32 33 34]\n",
      " [35 36 38 39]\n",
      " [36 37 39  4]\n",
      " [37 38  4 40]\n",
      " [38 39 40 41]\n",
      " [39  4 41 42]\n",
      " [ 4 40 42 43]\n",
      " [40 41 43  5]\n",
      " [41 42  5 44]\n",
      " [42 43 44  2]\n",
      " [ 3  2 46  1]\n",
      " [ 2 45  1 47]\n",
      " [45 46 47 48]\n",
      " [46  1 48  4]\n",
      " [ 1 47  4 49]\n",
      " [47 48 49 50]\n",
      " [48  4 50 51]\n",
      " [ 4 49 51 52]\n",
      " [49 50 52 53]\n",
      " [50 51 53 54]\n",
      " [51 52 54 55]\n",
      " [52 53 55 56]\n",
      " [53 54 56 57]\n",
      " [54 55 57 58]\n",
      " [55 56 58 59]\n",
      " [56 57 59  5]\n",
      " [57 58  5 60]\n",
      " [58 59 60 61]\n",
      " [ 9 62 64 65]\n",
      " [62 63 65 66]\n",
      " [63 64 66  3]\n",
      " [64 65  3  2]\n",
      " [65 66  2 67]\n",
      " [66  3 67 68]\n",
      " [ 3  2 68 69]\n",
      " [ 2 67 69  1]\n",
      " [67 68  1 70]\n",
      " [68 69 70 71]\n",
      " [69  1 71 72]\n",
      " [ 1 70 72 73]\n",
      " [70 71 73  5]\n",
      " [71 72  5 74]\n",
      " [72 73 74 75]\n",
      " [73  5 75 76]\n",
      " [ 5 74 76 77]\n",
      " [74 75 77 78]\n",
      " [75 76 78 79]\n",
      " [76 77 79 80]\n",
      " [77 78 80 81]\n",
      " [78 79 81 82]]\n"
     ]
    }
   ],
   "source": [
    "print(X)"
   ]
  },
  {
   "cell_type": "code",
   "execution_count": 72,
   "id": "5e532d49-58f2-41f2-af24-0f2979d4fcda",
   "metadata": {},
   "outputs": [
    {
     "name": "stdout",
     "output_type": "stream",
     "text": [
      "[ 7  8 11 12 13  9 14 15  1 16 17 18 19 20 24 25  7  8  3  2 26 27 28 29\n",
      "  1 30 31 32  4 37 38 39  4 40 41 42 43  5 45 46  1 47 48  4 49 50 51 52\n",
      " 53 54 55 56 57 58 59  5 63 64 65 66  3  2 67 68 69  1 70 71 72 73  5 74\n",
      " 75 76 77 78 79 80]\n"
     ]
    }
   ],
   "source": [
    "print(Y)"
   ]
  },
  {
   "cell_type": "code",
   "execution_count": 74,
   "id": "e4dbdfe5-0afc-44c1-85b8-244af2d5631a",
   "metadata": {},
   "outputs": [],
   "source": [
    "import tensorflow as tf\n",
    "from tensorflow.keras.models import Sequential\n",
    "from tensorflow.keras.layers import Dense, Embedding, Lambda "
   ]
  },
  {
   "cell_type": "code",
   "execution_count": 76,
   "id": "9dfc1ab0-2ced-44b4-8394-7b3af0cf8448",
   "metadata": {},
   "outputs": [],
   "source": [
    "\n",
    "model = Sequential([\n",
    "    Embedding(input_dim=vocab_size, output_dim=emb_size),\n",
    "    Lambda(lambda x: tf.reduce_mean(x, axis=1)),\n",
    "    Dense(256, activation='relu'),\n",
    "    Dense(512, activation='relu'),\n",
    "    Dense(vocab_size, activation='softmax')\n",
    "])"
   ]
  },
  {
   "cell_type": "code",
   "execution_count": 78,
   "id": "93ae5c09-fa05-45e5-b2df-ec2a6e22bf4d",
   "metadata": {},
   "outputs": [],
   "source": [
    "model.compile(loss='sparse_categorical_crossentropy', optimizer='adam', metrics=['accuracy'])"
   ]
  },
  {
   "cell_type": "code",
   "execution_count": 80,
   "id": "a0431945-32a8-4b22-b1ac-cc15ae81d2c0",
   "metadata": {},
   "outputs": [
    {
     "name": "stdout",
     "output_type": "stream",
     "text": [
      "Epoch 1/80\n",
      "\u001b[1m3/3\u001b[0m \u001b[32m━━━━━━━━━━━━━━━━━━━━\u001b[0m\u001b[37m\u001b[0m \u001b[1m2s\u001b[0m 9ms/step - accuracy: 0.0000e+00 - loss: 4.4193\n",
      "Epoch 2/80\n",
      "\u001b[1m3/3\u001b[0m \u001b[32m━━━━━━━━━━━━━━━━━━━━\u001b[0m\u001b[37m\u001b[0m \u001b[1m0s\u001b[0m 6ms/step - accuracy: 0.0569 - loss: 4.4120\n",
      "Epoch 3/80\n",
      "\u001b[1m3/3\u001b[0m \u001b[32m━━━━━━━━━━━━━━━━━━━━\u001b[0m\u001b[37m\u001b[0m \u001b[1m0s\u001b[0m 4ms/step - accuracy: 0.0697 - loss: 4.4054 \n",
      "Epoch 4/80\n",
      "\u001b[1m3/3\u001b[0m \u001b[32m━━━━━━━━━━━━━━━━━━━━\u001b[0m\u001b[37m\u001b[0m \u001b[1m0s\u001b[0m 4ms/step - accuracy: 0.0658 - loss: 4.3964 \n",
      "Epoch 5/80\n",
      "\u001b[1m3/3\u001b[0m \u001b[32m━━━━━━━━━━━━━━━━━━━━\u001b[0m\u001b[37m\u001b[0m \u001b[1m0s\u001b[0m 7ms/step - accuracy: 0.0541 - loss: 4.3853   \n",
      "Epoch 6/80\n",
      "\u001b[1m3/3\u001b[0m \u001b[32m━━━━━━━━━━━━━━━━━━━━\u001b[0m\u001b[37m\u001b[0m \u001b[1m0s\u001b[0m 5ms/step - accuracy: 0.0750 - loss: 4.3675\n",
      "Epoch 7/80\n",
      "\u001b[1m3/3\u001b[0m \u001b[32m━━━━━━━━━━━━━━━━━━━━\u001b[0m\u001b[37m\u001b[0m \u001b[1m0s\u001b[0m 5ms/step - accuracy: 0.0619 - loss: 4.3465\n",
      "Epoch 8/80\n",
      "\u001b[1m3/3\u001b[0m \u001b[32m━━━━━━━━━━━━━━━━━━━━\u001b[0m\u001b[37m\u001b[0m \u001b[1m0s\u001b[0m 8ms/step - accuracy: 0.0555 - loss: 4.3195\n",
      "Epoch 9/80\n",
      "\u001b[1m3/3\u001b[0m \u001b[32m━━━━━━━━━━━━━━━━━━━━\u001b[0m\u001b[37m\u001b[0m \u001b[1m0s\u001b[0m 5ms/step - accuracy: 0.0750 - loss: 4.2700\n",
      "Epoch 10/80\n",
      "\u001b[1m3/3\u001b[0m \u001b[32m━━━━━━━━━━━━━━━━━━━━\u001b[0m\u001b[37m\u001b[0m \u001b[1m0s\u001b[0m 4ms/step - accuracy: 0.0672 - loss: 4.2329 \n",
      "Epoch 11/80\n",
      "\u001b[1m3/3\u001b[0m \u001b[32m━━━━━━━━━━━━━━━━━━━━\u001b[0m\u001b[37m\u001b[0m \u001b[1m0s\u001b[0m 5ms/step - accuracy: 0.0569 - loss: 4.1725\n",
      "Epoch 12/80\n",
      "\u001b[1m3/3\u001b[0m \u001b[32m━━━━━━━━━━━━━━━━━━━━\u001b[0m\u001b[37m\u001b[0m \u001b[1m0s\u001b[0m 5ms/step - accuracy: 0.0491 - loss: 4.1302\n",
      "Epoch 13/80\n",
      "\u001b[1m3/3\u001b[0m \u001b[32m━━━━━━━━━━━━━━━━━━━━\u001b[0m\u001b[37m\u001b[0m \u001b[1m0s\u001b[0m 5ms/step - accuracy: 0.0374 - loss: 4.0704   \n",
      "Epoch 14/80\n",
      "\u001b[1m3/3\u001b[0m \u001b[32m━━━━━━━━━━━━━━━━━━━━\u001b[0m\u001b[37m\u001b[0m \u001b[1m0s\u001b[0m 6ms/step - accuracy: 0.0608 - loss: 4.0449\n",
      "Epoch 15/80\n",
      "\u001b[1m3/3\u001b[0m \u001b[32m━━━━━━━━━━━━━━━━━━━━\u001b[0m\u001b[37m\u001b[0m \u001b[1m0s\u001b[0m 5ms/step - accuracy: 0.0335 - loss: 4.0124   \n",
      "Epoch 16/80\n",
      "\u001b[1m3/3\u001b[0m \u001b[32m━━━━━━━━━━━━━━━━━━━━\u001b[0m\u001b[37m\u001b[0m \u001b[1m0s\u001b[0m 5ms/step - accuracy: 0.0725 - loss: 3.9012\n",
      "Epoch 17/80\n",
      "\u001b[1m3/3\u001b[0m \u001b[32m━━━━━━━━━━━━━━━━━━━━\u001b[0m\u001b[37m\u001b[0m \u001b[1m0s\u001b[0m 4ms/step - accuracy: 0.0594 - loss: 3.8924 \n",
      "Epoch 18/80\n",
      "\u001b[1m3/3\u001b[0m \u001b[32m━━━━━━━━━━━━━━━━━━━━\u001b[0m\u001b[37m\u001b[0m \u001b[1m0s\u001b[0m 6ms/step - accuracy: 0.0917 - loss: 3.7905\n",
      "Epoch 19/80\n",
      "\u001b[1m3/3\u001b[0m \u001b[32m━━━━━━━━━━━━━━━━━━━━\u001b[0m\u001b[37m\u001b[0m \u001b[1m0s\u001b[0m 5ms/step - accuracy: 0.1124 - loss: 3.7287\n",
      "Epoch 20/80\n",
      "\u001b[1m3/3\u001b[0m \u001b[32m━━━━━━━━━━━━━━━━━━━━\u001b[0m\u001b[37m\u001b[0m \u001b[1m0s\u001b[0m 8ms/step - accuracy: 0.1408 - loss: 3.6348\n",
      "Epoch 21/80\n",
      "\u001b[1m3/3\u001b[0m \u001b[32m━━━━━━━━━━━━━━━━━━━━\u001b[0m\u001b[37m\u001b[0m \u001b[1m0s\u001b[0m 6ms/step - accuracy: 0.1561 - loss: 3.5240\n",
      "Epoch 22/80\n",
      "\u001b[1m3/3\u001b[0m \u001b[32m━━━━━━━━━━━━━━━━━━━━\u001b[0m\u001b[37m\u001b[0m \u001b[1m0s\u001b[0m 7ms/step - accuracy: 0.1743 - loss: 3.4439\n",
      "Epoch 23/80\n",
      "\u001b[1m3/3\u001b[0m \u001b[32m━━━━━━━━━━━━━━━━━━━━\u001b[0m\u001b[37m\u001b[0m \u001b[1m0s\u001b[0m 6ms/step - accuracy: 0.1743 - loss: 3.2999\n",
      "Epoch 24/80\n",
      "\u001b[1m3/3\u001b[0m \u001b[32m━━━━━━━━━━━━━━━━━━━━\u001b[0m\u001b[37m\u001b[0m \u001b[1m0s\u001b[0m 6ms/step - accuracy: 0.2329 - loss: 3.1413 \n",
      "Epoch 25/80\n",
      "\u001b[1m3/3\u001b[0m \u001b[32m━━━━━━━━━━━━━━━━━━━━\u001b[0m\u001b[37m\u001b[0m \u001b[1m0s\u001b[0m 5ms/step - accuracy: 0.2130 - loss: 3.0628\n",
      "Epoch 26/80\n",
      "\u001b[1m3/3\u001b[0m \u001b[32m━━━━━━━━━━━━━━━━━━━━\u001b[0m\u001b[37m\u001b[0m \u001b[1m0s\u001b[0m 6ms/step - accuracy: 0.2532 - loss: 2.9419\n",
      "Epoch 27/80\n",
      "\u001b[1m3/3\u001b[0m \u001b[32m━━━━━━━━━━━━━━━━━━━━\u001b[0m\u001b[37m\u001b[0m \u001b[1m0s\u001b[0m 5ms/step - accuracy: 0.2763 - loss: 2.8109\n",
      "Epoch 28/80\n",
      "\u001b[1m3/3\u001b[0m \u001b[32m━━━━━━━━━━━━━━━━━━━━\u001b[0m\u001b[37m\u001b[0m \u001b[1m0s\u001b[0m 6ms/step - accuracy: 0.3151 - loss: 2.6707\n",
      "Epoch 29/80\n",
      "\u001b[1m3/3\u001b[0m \u001b[32m━━━━━━━━━━━━━━━━━━━━\u001b[0m\u001b[37m\u001b[0m \u001b[1m0s\u001b[0m 5ms/step - accuracy: 0.2995 - loss: 2.5526\n",
      "Epoch 30/80\n",
      "\u001b[1m3/3\u001b[0m \u001b[32m━━━━━━━━━━━━━━━━━━━━\u001b[0m\u001b[37m\u001b[0m \u001b[1m0s\u001b[0m 7ms/step - accuracy: 0.4139 - loss: 2.3333\n",
      "Epoch 31/80\n",
      "\u001b[1m3/3\u001b[0m \u001b[32m━━━━━━━━━━━━━━━━━━━━\u001b[0m\u001b[37m\u001b[0m \u001b[1m0s\u001b[0m 4ms/step - accuracy: 0.5053 - loss: 2.2324 \n",
      "Epoch 32/80\n",
      "\u001b[1m3/3\u001b[0m \u001b[32m━━━━━━━━━━━━━━━━━━━━\u001b[0m\u001b[37m\u001b[0m \u001b[1m0s\u001b[0m 5ms/step - accuracy: 0.4780 - loss: 2.1034\n",
      "Epoch 33/80\n",
      "\u001b[1m3/3\u001b[0m \u001b[32m━━━━━━━━━━━━━━━━━━━━\u001b[0m\u001b[37m\u001b[0m \u001b[1m0s\u001b[0m 6ms/step - accuracy: 0.5480 - loss: 1.9494\n",
      "Epoch 34/80\n",
      "\u001b[1m3/3\u001b[0m \u001b[32m━━━━━━━━━━━━━━━━━━━━\u001b[0m\u001b[37m\u001b[0m \u001b[1m0s\u001b[0m 5ms/step - accuracy: 0.6347 - loss: 1.7866\n",
      "Epoch 35/80\n",
      "\u001b[1m3/3\u001b[0m \u001b[32m━━━━━━━━━━━━━━━━━━━━\u001b[0m\u001b[37m\u001b[0m \u001b[1m0s\u001b[0m 5ms/step - accuracy: 0.6735 - loss: 1.6976 \n",
      "Epoch 36/80\n",
      "\u001b[1m3/3\u001b[0m \u001b[32m━━━━━━━━━━━━━━━━━━━━\u001b[0m\u001b[37m\u001b[0m \u001b[1m0s\u001b[0m 7ms/step - accuracy: 0.6654 - loss: 1.6048\n",
      "Epoch 37/80\n",
      "\u001b[1m3/3\u001b[0m \u001b[32m━━━━━━━━━━━━━━━━━━━━\u001b[0m\u001b[37m\u001b[0m \u001b[1m0s\u001b[0m 6ms/step - accuracy: 0.7713 - loss: 1.5095\n",
      "Epoch 38/80\n",
      "\u001b[1m3/3\u001b[0m \u001b[32m━━━━━━━━━━━━━━━━━━━━\u001b[0m\u001b[37m\u001b[0m \u001b[1m0s\u001b[0m 4ms/step - accuracy: 0.8001 - loss: 1.4007 \n",
      "Epoch 39/80\n",
      "\u001b[1m3/3\u001b[0m \u001b[32m━━━━━━━━━━━━━━━━━━━━\u001b[0m\u001b[37m\u001b[0m \u001b[1m0s\u001b[0m 5ms/step - accuracy: 0.7817 - loss: 1.3324 \n",
      "Epoch 40/80\n",
      "\u001b[1m3/3\u001b[0m \u001b[32m━━━━━━━━━━━━━━━━━━━━\u001b[0m\u001b[37m\u001b[0m \u001b[1m0s\u001b[0m 6ms/step - accuracy: 0.7817 - loss: 1.2332\n",
      "Epoch 41/80\n",
      "\u001b[1m3/3\u001b[0m \u001b[32m━━━━━━━━━━━━━━━━━━━━\u001b[0m\u001b[37m\u001b[0m \u001b[1m0s\u001b[0m 5ms/step - accuracy: 0.8734 - loss: 1.1393\n",
      "Epoch 42/80\n",
      "\u001b[1m3/3\u001b[0m \u001b[32m━━━━━━━━━━━━━━━━━━━━\u001b[0m\u001b[37m\u001b[0m \u001b[1m0s\u001b[0m 4ms/step - accuracy: 0.8734 - loss: 1.0807\n",
      "Epoch 43/80\n",
      "\u001b[1m3/3\u001b[0m \u001b[32m━━━━━━━━━━━━━━━━━━━━\u001b[0m\u001b[37m\u001b[0m \u001b[1m0s\u001b[0m 6ms/step - accuracy: 0.8410 - loss: 1.0168\n",
      "Epoch 44/80\n",
      "\u001b[1m3/3\u001b[0m \u001b[32m━━━━━━━━━━━━━━━━━━━━\u001b[0m\u001b[37m\u001b[0m \u001b[1m0s\u001b[0m 6ms/step - accuracy: 0.9097 - loss: 0.9403\n",
      "Epoch 45/80\n",
      "\u001b[1m3/3\u001b[0m \u001b[32m━━━━━━━━━━━━━━━━━━━━\u001b[0m\u001b[37m\u001b[0m \u001b[1m0s\u001b[0m 6ms/step - accuracy: 0.8826 - loss: 0.8566\n",
      "Epoch 46/80\n",
      "\u001b[1m3/3\u001b[0m \u001b[32m━━━━━━━━━━━━━━━━━━━━\u001b[0m\u001b[37m\u001b[0m \u001b[1m0s\u001b[0m 5ms/step - accuracy: 0.8954 - loss: 0.7871\n",
      "Epoch 47/80\n",
      "\u001b[1m3/3\u001b[0m \u001b[32m━━━━━━━━━━━━━━━━━━━━\u001b[0m\u001b[37m\u001b[0m \u001b[1m0s\u001b[0m 5ms/step - accuracy: 0.9523 - loss: 0.7428\n",
      "Epoch 48/80\n",
      "\u001b[1m3/3\u001b[0m \u001b[32m━━━━━━━━━━━━━━━━━━━━\u001b[0m\u001b[37m\u001b[0m \u001b[1m0s\u001b[0m 5ms/step - accuracy: 0.9509 - loss: 0.7055\n",
      "Epoch 49/80\n",
      "\u001b[1m3/3\u001b[0m \u001b[32m━━━━━━━━━━━━━━━━━━━━\u001b[0m\u001b[37m\u001b[0m \u001b[1m0s\u001b[0m 6ms/step - accuracy: 0.9755 - loss: 0.6476\n",
      "Epoch 50/80\n",
      "\u001b[1m3/3\u001b[0m \u001b[32m━━━━━━━━━━━━━━━━━━━━\u001b[0m\u001b[37m\u001b[0m \u001b[1m0s\u001b[0m 8ms/step - accuracy: 0.9612 - loss: 0.6039\n",
      "Epoch 51/80\n",
      "\u001b[1m3/3\u001b[0m \u001b[32m━━━━━━━━━━━━━━━━━━━━\u001b[0m\u001b[37m\u001b[0m \u001b[1m0s\u001b[0m 6ms/step - accuracy: 0.9225 - loss: 0.5592\n",
      "Epoch 52/80\n",
      "\u001b[1m3/3\u001b[0m \u001b[32m━━━━━━━━━━━━━━━━━━━━\u001b[0m\u001b[37m\u001b[0m \u001b[1m0s\u001b[0m 6ms/step - accuracy: 0.9172 - loss: 0.5542\n",
      "Epoch 53/80\n",
      "\u001b[1m3/3\u001b[0m \u001b[32m━━━━━━━━━━━━━━━━━━━━\u001b[0m\u001b[37m\u001b[0m \u001b[1m0s\u001b[0m 4ms/step - accuracy: 0.9289 - loss: 0.5018 \n",
      "Epoch 54/80\n",
      "\u001b[1m3/3\u001b[0m \u001b[32m━━━━━━━━━━━━━━━━━━━━\u001b[0m\u001b[37m\u001b[0m \u001b[1m0s\u001b[0m 5ms/step - accuracy: 0.9456 - loss: 0.4714\n",
      "Epoch 55/80\n",
      "\u001b[1m3/3\u001b[0m \u001b[32m━━━━━━━━━━━━━━━━━━━━\u001b[0m\u001b[37m\u001b[0m \u001b[1m0s\u001b[0m 5ms/step - accuracy: 0.9716 - loss: 0.4321\n",
      "Epoch 56/80\n",
      "\u001b[1m3/3\u001b[0m \u001b[32m━━━━━━━━━━━━━━━━━━━━\u001b[0m\u001b[37m\u001b[0m \u001b[1m0s\u001b[0m 5ms/step - accuracy: 0.9897 - loss: 0.3972\n",
      "Epoch 57/80\n",
      "\u001b[1m3/3\u001b[0m \u001b[32m━━━━━━━━━━━━━━━━━━━━\u001b[0m\u001b[37m\u001b[0m \u001b[1m0s\u001b[0m 5ms/step - accuracy: 0.9936 - loss: 0.3560\n",
      "Epoch 58/80\n",
      "\u001b[1m3/3\u001b[0m \u001b[32m━━━━━━━━━━━━━━━━━━━━\u001b[0m\u001b[37m\u001b[0m \u001b[1m0s\u001b[0m 5ms/step - accuracy: 1.0000 - loss: 0.3425\n",
      "Epoch 59/80\n",
      "\u001b[1m3/3\u001b[0m \u001b[32m━━━━━━━━━━━━━━━━━━━━\u001b[0m\u001b[37m\u001b[0m \u001b[1m0s\u001b[0m 5ms/step - accuracy: 1.0000 - loss: 0.3172\n",
      "Epoch 60/80\n",
      "\u001b[1m3/3\u001b[0m \u001b[32m━━━━━━━━━━━━━━━━━━━━\u001b[0m\u001b[37m\u001b[0m \u001b[1m0s\u001b[0m 6ms/step - accuracy: 1.0000 - loss: 0.2996\n",
      "Epoch 61/80\n",
      "\u001b[1m3/3\u001b[0m \u001b[32m━━━━━━━━━━━━━━━━━━━━\u001b[0m\u001b[37m\u001b[0m \u001b[1m0s\u001b[0m 5ms/step - accuracy: 1.0000 - loss: 0.2778\n",
      "Epoch 62/80\n",
      "\u001b[1m3/3\u001b[0m \u001b[32m━━━━━━━━━━━━━━━━━━━━\u001b[0m\u001b[37m\u001b[0m \u001b[1m0s\u001b[0m 5ms/step - accuracy: 0.9897 - loss: 0.2377\n",
      "Epoch 63/80\n",
      "\u001b[1m3/3\u001b[0m \u001b[32m━━━━━━━━━━━━━━━━━━━━\u001b[0m\u001b[37m\u001b[0m \u001b[1m0s\u001b[0m 8ms/step - accuracy: 1.0000 - loss: 0.2175\n",
      "Epoch 64/80\n",
      "\u001b[1m3/3\u001b[0m \u001b[32m━━━━━━━━━━━━━━━━━━━━\u001b[0m\u001b[37m\u001b[0m \u001b[1m0s\u001b[0m 6ms/step - accuracy: 1.0000 - loss: 0.2020\n",
      "Epoch 65/80\n",
      "\u001b[1m3/3\u001b[0m \u001b[32m━━━━━━━━━━━━━━━━━━━━\u001b[0m\u001b[37m\u001b[0m \u001b[1m0s\u001b[0m 6ms/step - accuracy: 1.0000 - loss: 0.1976\n",
      "Epoch 66/80\n",
      "\u001b[1m3/3\u001b[0m \u001b[32m━━━━━━━━━━━━━━━━━━━━\u001b[0m\u001b[37m\u001b[0m \u001b[1m0s\u001b[0m 6ms/step - accuracy: 1.0000 - loss: 0.1807\n",
      "Epoch 67/80\n",
      "\u001b[1m3/3\u001b[0m \u001b[32m━━━━━━━━━━━━━━━━━━━━\u001b[0m\u001b[37m\u001b[0m \u001b[1m0s\u001b[0m 6ms/step - accuracy: 1.0000 - loss: 0.1744\n",
      "Epoch 68/80\n",
      "\u001b[1m3/3\u001b[0m \u001b[32m━━━━━━━━━━━━━━━━━━━━\u001b[0m\u001b[37m\u001b[0m \u001b[1m0s\u001b[0m 5ms/step - accuracy: 1.0000 - loss: 0.1592\n",
      "Epoch 69/80\n",
      "\u001b[1m3/3\u001b[0m \u001b[32m━━━━━━━━━━━━━━━━━━━━\u001b[0m\u001b[37m\u001b[0m \u001b[1m0s\u001b[0m 5ms/step - accuracy: 1.0000 - loss: 0.1544\n",
      "Epoch 70/80\n",
      "\u001b[1m3/3\u001b[0m \u001b[32m━━━━━━━━━━━━━━━━━━━━\u001b[0m\u001b[37m\u001b[0m \u001b[1m0s\u001b[0m 6ms/step - accuracy: 1.0000 - loss: 0.1400\n",
      "Epoch 71/80\n",
      "\u001b[1m3/3\u001b[0m \u001b[32m━━━━━━━━━━━━━━━━━━━━\u001b[0m\u001b[37m\u001b[0m \u001b[1m0s\u001b[0m 4ms/step - accuracy: 1.0000 - loss: 0.1238 \n",
      "Epoch 72/80\n",
      "\u001b[1m3/3\u001b[0m \u001b[32m━━━━━━━━━━━━━━━━━━━━\u001b[0m\u001b[37m\u001b[0m \u001b[1m0s\u001b[0m 6ms/step - accuracy: 1.0000 - loss: 0.1107\n",
      "Epoch 73/80\n",
      "\u001b[1m3/3\u001b[0m \u001b[32m━━━━━━━━━━━━━━━━━━━━\u001b[0m\u001b[37m\u001b[0m \u001b[1m0s\u001b[0m 5ms/step - accuracy: 1.0000 - loss: 0.1097\n",
      "Epoch 74/80\n",
      "\u001b[1m3/3\u001b[0m \u001b[32m━━━━━━━━━━━━━━━━━━━━\u001b[0m\u001b[37m\u001b[0m \u001b[1m0s\u001b[0m 7ms/step - accuracy: 1.0000 - loss: 0.1057\n",
      "Epoch 75/80\n",
      "\u001b[1m3/3\u001b[0m \u001b[32m━━━━━━━━━━━━━━━━━━━━\u001b[0m\u001b[37m\u001b[0m \u001b[1m0s\u001b[0m 5ms/step - accuracy: 1.0000 - loss: 0.0979\n",
      "Epoch 76/80\n",
      "\u001b[1m3/3\u001b[0m \u001b[32m━━━━━━━━━━━━━━━━━━━━\u001b[0m\u001b[37m\u001b[0m \u001b[1m0s\u001b[0m 3ms/step - accuracy: 1.0000 - loss: 0.0931 \n",
      "Epoch 77/80\n",
      "\u001b[1m3/3\u001b[0m \u001b[32m━━━━━━━━━━━━━━━━━━━━\u001b[0m\u001b[37m\u001b[0m \u001b[1m0s\u001b[0m 5ms/step - accuracy: 1.0000 - loss: 0.0872\n",
      "Epoch 78/80\n",
      "\u001b[1m3/3\u001b[0m \u001b[32m━━━━━━━━━━━━━━━━━━━━\u001b[0m\u001b[37m\u001b[0m \u001b[1m0s\u001b[0m 5ms/step - accuracy: 1.0000 - loss: 0.0804\n",
      "Epoch 79/80\n",
      "\u001b[1m3/3\u001b[0m \u001b[32m━━━━━━━━━━━━━━━━━━━━\u001b[0m\u001b[37m\u001b[0m \u001b[1m0s\u001b[0m 4ms/step - accuracy: 1.0000 - loss: 0.0736\n",
      "Epoch 80/80\n",
      "\u001b[1m3/3\u001b[0m \u001b[32m━━━━━━━━━━━━━━━━━━━━\u001b[0m\u001b[37m\u001b[0m \u001b[1m0s\u001b[0m 6ms/step - accuracy: 1.0000 - loss: 0.0707\n"
     ]
    }
   ],
   "source": [
    "history = model.fit(X, Y, epochs=80)"
   ]
  },
  {
   "cell_type": "code",
   "execution_count": 82,
   "id": "72a0701d-e16a-4557-b48b-41f95648a246",
   "metadata": {},
   "outputs": [
    {
     "data": {
      "text/plain": [
       "<Axes: >"
      ]
     },
     "execution_count": 82,
     "metadata": {},
     "output_type": "execute_result"
    },
    {
     "data": {
      "image/png": "[encoded data removed]",
      "text/plain": [
       "<Figure size 640x480 with 1 Axes>"
      ]
     },
     "metadata": {},
     "output_type": "display_data"
    }
   ],
   "source": [
    "import seaborn as sns\n",
    "sns.lineplot(model.history.history)"
   ]
  },
  {
   "cell_type": "code",
   "execution_count": 84,
   "id": "f5892130-560f-4cb2-9f30-2571918eaa65",
   "metadata": {},
   "outputs": [
    {
     "name": "stdout",
     "output_type": "stream",
     "text": [
      "Artificial intelligence (AI) is transforming various industries by enabling machines to perform tasks that typically require human intelligence. One key area within AI is deep learning, which uses neural networks to model complex patterns in large datasets. These models can be trained in different ways, including supervised and unsupervised learning. Deep learning has led to significant advancements in technologies such as autonomous vehicles, voice-activated virtual assistants, medical diagnostics, and predictive analytics. By processing vast amounts of data, deep learning algorithms are able to recognize images, translate languages, and even predict future trends, driving innovation across numerous fields.\n"
     ]
    }
   ],
   "source": [
    "print(\"\"\"Artificial intelligence (AI) is transforming various industries by enabling machines to perform tasks that typically require human intelligence. One key area within AI is deep learning, which uses neural networks to model complex patterns in large datasets. These models can be trained in different ways, including supervised and unsupervised learning. Deep learning has led to significant advancements in technologies such as autonomous vehicles, voice-activated virtual assistants, medical diagnostics, and predictive analytics. By processing vast amounts of data, deep learning algorithms are able to recognize images, translate languages, and even predict future trends, driving innovation across numerous fields.\"\"\")"
   ]
  },
  {
   "cell_type": "code",
   "execution_count": 86,
   "id": "f4571b4f-9daa-4fe1-9721-ad6e6caec5bb",
   "metadata": {},
   "outputs": [],
   "source": [
    "test_sentenses = [\n",
    "    \"is transforming various by enabling machines\"\n",
    "]"
   ]
  },
  {
   "cell_type": "code",
   "execution_count": 88,
   "id": "27bf799e-ae50-4210-8ab5-17f482ae7510",
   "metadata": {},
   "outputs": [
    {
     "name": "stdout",
     "output_type": "stream",
     "text": [
      "\u001b[1m1/1\u001b[0m \u001b[32m━━━━━━━━━━━━━━━━━━━━\u001b[0m\u001b[37m\u001b[0m \u001b[1m0s\u001b[0m 123ms/step\n",
      "pred  ['is', 'transforming', 'various', 'by', 'enabling', 'machines'] \n",
      "= industries \n",
      "\n",
      "\n"
     ]
    }
   ],
   "source": [
    "for sent in test_sentenses:\n",
    "    test_words = sent.split(\" \")\n",
    "    x_test =[]\n",
    "    for i in test_words:\n",
    "        x_test.append(word_to_index.get(i))\n",
    "    x_test = np.array([x_test])   \n",
    "    pred = model.predict(x_test)\n",
    "    pred = np.argmax(pred[0])\n",
    "    print(\"pred \", test_words, \"\\n=\", index_to_word.get(pred),\"\\n\\n\")"
   ]
  },
  {
   "cell_type": "code",
   "execution_count": null,
   "id": "684bab34-64b3-4398-a6c3-02e77e3450fd",
   "metadata": {},
   "outputs": [],
   "source": []
  }
 ],
 "metadata": {
  "kernelspec": {
   "display_name": "Python 3 (ipykernel)",
   "language": "python",
   "name": "python3"
  },
  "language_info": {
   "codemirror_mode": {
    "name": "ipython",
    "version": 3
   },
   "file_extension": ".py",
   "mimetype": "text/x-python",
   "name": "python",
   "nbconvert_exporter": "python",
   "pygments_lexer": "ipython3",
   "version": "3.12.7"
  }
 },
 "nbformat": 4,
 "nbformat_minor": 5
}

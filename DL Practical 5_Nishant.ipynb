{
 "cells": [
  {
   "cell_type": "code",
   "execution_count": 2,
   "id": "d7af368d-8c8a-470d-a553-6dc826a89968",
   "metadata": {},
   "outputs": [],
   "source": [
    "import numpy as np\n",
    "import re"
   ]
  },
  {
   "cell_type": "code",
   "execution_count": 4,
   "id": "896722ba-b361-4cea-a105-75f57d305157",
   "metadata": {},
   "outputs": [
    {
     "data": {
      "text/plain": [
       "'Machine learning, particularly deep learning, has become a powerful tool in analyzing and understanding complex data. Deep learning models, built on layers of interconnected neurons, are capable of identifying intricate patterns that traditional algorithms may miss. These models, which include convolutional neural networks for image processing and recurrent neural networks for sequential data, are widely applied in sectors such as healthcare, finance, and entertainment. From detecting anomalies in medical imaging to enhancing personalized recommendations in streaming platforms, deep learning enables innovative solutions by adapting to data and continuously improving its accuracy and efficiency.'"
      ]
     },
     "execution_count": 4,
     "metadata": {},
     "output_type": "execute_result"
    }
   ],
   "source": [
    "data = \"\"\"Machine learning, particularly deep learning, has become a powerful tool in analyzing and understanding complex data. Deep learning models, built on layers of interconnected neurons, are capable of identifying intricate patterns that traditional algorithms may miss. These models, which include convolutional neural networks for image processing and recurrent neural networks for sequential data, are widely applied in sectors such as healthcare, finance, and entertainment. From detecting anomalies in medical imaging to enhancing personalized recommendations in streaming platforms, deep learning enables innovative solutions by adapting to data and continuously improving its accuracy and efficiency.\"\"\"\n",
    "data"
   ]
  },
  {
   "cell_type": "code",
   "execution_count": 6,
   "id": "b3dc032e-d25e-4aa1-96be-71c590c661f0",
   "metadata": {},
   "outputs": [
    {
     "data": {
      "text/plain": [
       "['Machine learning, particularly deep learning, has become a powerful tool in analyzing and understanding complex data',\n",
       " ' Deep learning models, built on layers of interconnected neurons, are capable of identifying intricate patterns that traditional algorithms may miss',\n",
       " ' These models, which include convolutional neural networks for image processing and recurrent neural networks for sequential data, are widely applied in sectors such as healthcare, finance, and entertainment',\n",
       " ' From detecting anomalies in medical imaging to enhancing personalized recommendations in streaming platforms, deep learning enables innovative solutions by adapting to data and continuously improving its accuracy and efficiency',\n",
       " '']"
      ]
     },
     "execution_count": 6,
     "metadata": {},
     "output_type": "execute_result"
    }
   ],
   "source": [
    "sentences = data.split('.')\n",
    "sentences"
   ]
  },
  {
   "cell_type": "code",
   "execution_count": 8,
   "id": "db05f0a9-4011-41dd-ae5a-206cfbef15fa",
   "metadata": {},
   "outputs": [
    {
     "data": {
      "text/plain": [
       "['machine learning particularly deep learning has become a powerful tool in analyzing and understanding complex data',\n",
       " 'deep learning models built on layers of interconnected neurons are capable of identifying intricate patterns that traditional algorithms may miss',\n",
       " 'these models which include convolutional neural networks for image processing and recurrent neural networks for sequential data are widely applied in sectors such as healthcare finance and entertainment',\n",
       " 'from detecting anomalies in medical imaging to enhancing personalized recommendations in streaming platforms deep learning enables innovative solutions by adapting to data and continuously improving its accuracy and efficiency']"
      ]
     },
     "execution_count": 8,
     "metadata": {},
     "output_type": "execute_result"
    }
   ],
   "source": [
    "clean_sent=[]\n",
    "for sentence in sentences:\n",
    "    if sentence==\"\":\n",
    "        continue\n",
    "    sentence = re.sub('[^A-Za-z0-9]+', ' ', (sentence))\n",
    "    sentence = re.sub(r'(?:^| )\\w (?:$| )', ' ', (sentence)).strip()\n",
    "    sentence = sentence.lower()\n",
    "    clean_sent.append(sentence)\n",
    "\n",
    "clean_sent"
   ]
  },
  {
   "cell_type": "code",
   "execution_count": 10,
   "id": "e5477fed-484e-4fee-9c9c-3f43bc137af4",
   "metadata": {},
   "outputs": [],
   "source": [
    "from tensorflow.keras.preprocessing.text import Tokenizer"
   ]
  },
  {
   "cell_type": "code",
   "execution_count": 11,
   "id": "369d6809-986e-46c7-aad5-329a3f480eef",
   "metadata": {},
   "outputs": [
    {
     "name": "stdout",
     "output_type": "stream",
     "text": [
      "[[13, 2, 14, 4, 2, 15, 16, 17, 18, 19, 3, 20, 1, 21, 22, 5], [4, 2, 6, 23, 24, 25, 7, 26, 27, 8, 28, 7, 29, 30, 31, 32, 33, 34, 35, 36], [37, 6, 38, 39, 40, 9, 10, 11, 41, 42, 1, 43, 9, 10, 11, 44, 5, 8, 45, 46, 3, 47, 48, 49, 50, 51, 1, 52], [53, 54, 55, 3, 56, 57, 12, 58, 59, 60, 3, 61, 62, 4, 2, 63, 64, 65, 66, 67, 12, 5, 1, 68, 69, 70, 71, 1, 72]]\n"
     ]
    }
   ],
   "source": [
    "tokenizer = Tokenizer()\n",
    "tokenizer.fit_on_texts(clean_sent)\n",
    "sequences = tokenizer.texts_to_sequences(clean_sent)\n",
    "print(sequences)"
   ]
  },
  {
   "cell_type": "code",
   "execution_count": 12,
   "id": "c49d497c-24f3-493b-9291-c25e19b58662",
   "metadata": {},
   "outputs": [
    {
     "name": "stdout",
     "output_type": "stream",
     "text": [
      "Vocabulary Size: 72\n",
      "{13: 'machine', 2: 'learning', 14: 'particularly', 4: 'deep', 15: 'has', 16: 'become', 17: 'a', 18: 'powerful', 19: 'tool', 3: 'in', 20: 'analyzing', 1: 'and', 21: 'understanding', 22: 'complex', 5: 'data', 6: 'models', 23: 'built', 24: 'on', 25: 'layers', 7: 'of', 26: 'interconnected', 27: 'neurons', 8: 'are', 28: 'capable', 29: 'identifying', 30: 'intricate', 31: 'patterns', 32: 'that', 33: 'traditional', 34: 'algorithms', 35: 'may', 36: 'miss', 37: 'these', 38: 'which', 39: 'include', 40: 'convolutional', 9: 'neural', 10: 'networks', 11: 'for', 41: 'image', 42: 'processing', 43: 'recurrent', 44: 'sequential', 45: 'widely', 46: 'applied', 47: 'sectors', 48: 'such', 49: 'as', 50: 'healthcare', 51: 'finance', 52: 'entertainment', 53: 'from', 54: 'detecting', 55: 'anomalies', 56: 'medical', 57: 'imaging', 12: 'to', 58: 'enhancing', 59: 'personalized', 60: 'recommendations', 61: 'streaming', 62: 'platforms', 63: 'enables', 64: 'innovative', 65: 'solutions', 66: 'by', 67: 'adapting', 68: 'continuously', 69: 'improving', 70: 'its', 71: 'accuracy', 72: 'efficiency'} \n",
      "\n",
      "{'machine': 13, 'learning': 2, 'particularly': 14, 'deep': 4, 'has': 15, 'become': 16, 'a': 17, 'powerful': 18, 'tool': 19, 'in': 3, 'analyzing': 20, 'and': 1, 'understanding': 21, 'complex': 22, 'data': 5, 'models': 6, 'built': 23, 'on': 24, 'layers': 25, 'of': 7, 'interconnected': 26, 'neurons': 27, 'are': 8, 'capable': 28, 'identifying': 29, 'intricate': 30, 'patterns': 31, 'that': 32, 'traditional': 33, 'algorithms': 34, 'may': 35, 'miss': 36, 'these': 37, 'which': 38, 'include': 39, 'convolutional': 40, 'neural': 9, 'networks': 10, 'for': 11, 'image': 41, 'processing': 42, 'recurrent': 43, 'sequential': 44, 'widely': 45, 'applied': 46, 'sectors': 47, 'such': 48, 'as': 49, 'healthcare': 50, 'finance': 51, 'entertainment': 52, 'from': 53, 'detecting': 54, 'anomalies': 55, 'medical': 56, 'imaging': 57, 'to': 12, 'enhancing': 58, 'personalized': 59, 'recommendations': 60, 'streaming': 61, 'platforms': 62, 'enables': 63, 'innovative': 64, 'solutions': 65, 'by': 66, 'adapting': 67, 'continuously': 68, 'improving': 69, 'its': 70, 'accuracy': 71, 'efficiency': 72}\n"
     ]
    }
   ],
   "source": [
    "index_to_word = {}\n",
    "word_to_index = {}\n",
    "word2id = tokenizer.word_index\n",
    "\n",
    "for i, sequence in enumerate(sequences):\n",
    "    word_in_sentence = clean_sent[i].split()\n",
    "  \n",
    "    for j, value in enumerate(sequence):\n",
    "        index_to_word[value] = word_in_sentence[j]\n",
    "        word_to_index[word_in_sentence[j]] = value\n",
    "        \n",
    "vocab_size = len(word2id)\n",
    "print('Vocabulary Size:', vocab_size)\n",
    "print(index_to_word, \"\\n\")\n",
    "print(word_to_index)"
   ]
  },
  {
   "cell_type": "code",
   "execution_count": 16,
   "id": "47c7ad2f-9755-4adb-b733-eb3219930248",
   "metadata": {},
   "outputs": [
    {
     "name": "stdout",
     "output_type": "stream",
     "text": [
      "[[13, 2, 4, 2], [2, 14, 2, 15], [14, 4, 15, 16], [4, 2, 16, 17], [2, 15, 17, 18], [15, 16, 18, 19], [16, 17, 19, 3], [17, 18, 3, 20], [18, 19, 20, 1], [19, 3, 1, 21], [3, 20, 21, 22], [20, 1, 22, 5], [4, 2, 23, 24], [2, 6, 24, 25], [6, 23, 25, 7], [23, 24, 7, 26], [24, 25, 26, 27], [25, 7, 27, 8], [7, 26, 8, 28], [26, 27, 28, 7], [27, 8, 7, 29], [8, 28, 29, 30], [28, 7, 30, 31], [7, 29, 31, 32], [29, 30, 32, 33], [30, 31, 33, 34], [31, 32, 34, 35], [32, 33, 35, 36], [37, 6, 39, 40], [6, 38, 40, 9], [38, 39, 9, 10], [39, 40, 10, 11], [40, 9, 11, 41], [9, 10, 41, 42], [10, 11, 42, 1], [11, 41, 1, 43], [41, 42, 43, 9], [42, 1, 9, 10], [1, 43, 10, 11], [43, 9, 11, 44], [9, 10, 44, 5], [10, 11, 5, 8], [11, 44, 8, 45], [44, 5, 45, 46], [5, 8, 46, 3], [8, 45, 3, 47], [45, 46, 47, 48], [46, 3, 48, 49], [3, 47, 49, 50], [47, 48, 50, 51], [48, 49, 51, 1], [49, 50, 1, 52], [53, 54, 3, 56], [54, 55, 56, 57], [55, 3, 57, 12], [3, 56, 12, 58], [56, 57, 58, 59], [57, 12, 59, 60], [12, 58, 60, 3], [58, 59, 3, 61], [59, 60, 61, 62], [60, 3, 62, 4], [3, 61, 4, 2], [61, 62, 2, 63], [62, 4, 63, 64], [4, 2, 64, 65], [2, 63, 65, 66], [63, 64, 66, 67], [64, 65, 67, 12], [65, 66, 12, 5], [66, 67, 5, 1], [67, 12, 1, 68], [12, 5, 68, 69], [5, 1, 69, 70], [1, 68, 70, 71], [68, 69, 71, 1], [69, 70, 1, 72]] \n",
      "\n",
      "[14, 4, 2, 15, 16, 17, 18, 19, 3, 20, 1, 21, 6, 23, 24, 25, 7, 26, 27, 8, 28, 7, 29, 30, 31, 32, 33, 34, 38, 39, 40, 9, 10, 11, 41, 42, 1, 43, 9, 10, 11, 44, 5, 8, 45, 46, 3, 47, 48, 49, 50, 51, 55, 3, 56, 57, 12, 58, 59, 60, 3, 61, 62, 4, 2, 63, 64, 65, 66, 67, 12, 5, 1, 68, 69, 70, 71]\n"
     ]
    }
   ],
   "source": [
    "vocab_size = len(tokenizer.word_index) + 1\n",
    "emb_size = 10\n",
    "context_size = 2\n",
    "\n",
    "contexts = []\n",
    "targets = []\n",
    "\n",
    "for sequence in sequences:\n",
    "    for i in range(context_size, len(sequence) - context_size):\n",
    "        target = sequence[i]\n",
    "        context = [sequence[i - 2], sequence[i - 1], sequence[i + 1], sequence[i + 2]]\n",
    "        contexts.append(context)\n",
    "        targets.append(target)\n",
    "print(contexts, \"\\n\")\n",
    "print(targets)"
   ]
  },
  {
   "cell_type": "code",
   "execution_count": 18,
   "id": "d0b5a000-62ed-404d-8c11-f4308baa1403",
   "metadata": {},
   "outputs": [
    {
     "name": "stdout",
     "output_type": "stream",
     "text": [
      "['machine', 'learning', 'deep', 'learning']  ->  particularly\n",
      "['learning', 'particularly', 'learning', 'has']  ->  deep\n",
      "['particularly', 'deep', 'has', 'become']  ->  learning\n",
      "['deep', 'learning', 'become', 'a']  ->  has\n",
      "['learning', 'has', 'a', 'powerful']  ->  become\n"
     ]
    }
   ],
   "source": [
    "for i in range(5):\n",
    "    words = []\n",
    "    target = index_to_word.get(targets[i])\n",
    "    for j in contexts[i]:\n",
    "        words.append(index_to_word.get(j))\n",
    "    print(words,\" -> \", target)"
   ]
  },
  {
   "cell_type": "code",
   "execution_count": 20,
   "id": "e2362389-d828-4503-90c3-467d5142c6e6",
   "metadata": {},
   "outputs": [],
   "source": [
    "X = np.array(contexts)\n",
    "Y = np.array(targets)"
   ]
  },
  {
   "cell_type": "code",
   "execution_count": 22,
   "id": "0796bfed-d8c9-45ad-a47b-0ea6f7f849d0",
   "metadata": {},
   "outputs": [
    {
     "name": "stdout",
     "output_type": "stream",
     "text": [
      "[[13  2  4  2]\n",
      " [ 2 14  2 15]\n",
      " [14  4 15 16]\n",
      " [ 4  2 16 17]\n",
      " [ 2 15 17 18]\n",
      " [15 16 18 19]\n",
      " [16 17 19  3]\n",
      " [17 18  3 20]\n",
      " [18 19 20  1]\n",
      " [19  3  1 21]\n",
      " [ 3 20 21 22]\n",
      " [20  1 22  5]\n",
      " [ 4  2 23 24]\n",
      " [ 2  6 24 25]\n",
      " [ 6 23 25  7]\n",
      " [23 24  7 26]\n",
      " [24 25 26 27]\n",
      " [25  7 27  8]\n",
      " [ 7 26  8 28]\n",
      " [26 27 28  7]\n",
      " [27  8  7 29]\n",
      " [ 8 28 29 30]\n",
      " [28  7 30 31]\n",
      " [ 7 29 31 32]\n",
      " [29 30 32 33]\n",
      " [30 31 33 34]\n",
      " [31 32 34 35]\n",
      " [32 33 35 36]\n",
      " [37  6 39 40]\n",
      " [ 6 38 40  9]\n",
      " [38 39  9 10]\n",
      " [39 40 10 11]\n",
      " [40  9 11 41]\n",
      " [ 9 10 41 42]\n",
      " [10 11 42  1]\n",
      " [11 41  1 43]\n",
      " [41 42 43  9]\n",
      " [42  1  9 10]\n",
      " [ 1 43 10 11]\n",
      " [43  9 11 44]\n",
      " [ 9 10 44  5]\n",
      " [10 11  5  8]\n",
      " [11 44  8 45]\n",
      " [44  5 45 46]\n",
      " [ 5  8 46  3]\n",
      " [ 8 45  3 47]\n",
      " [45 46 47 48]\n",
      " [46  3 48 49]\n",
      " [ 3 47 49 50]\n",
      " [47 48 50 51]\n",
      " [48 49 51  1]\n",
      " [49 50  1 52]\n",
      " [53 54  3 56]\n",
      " [54 55 56 57]\n",
      " [55  3 57 12]\n",
      " [ 3 56 12 58]\n",
      " [56 57 58 59]\n",
      " [57 12 59 60]\n",
      " [12 58 60  3]\n",
      " [58 59  3 61]\n",
      " [59 60 61 62]\n",
      " [60  3 62  4]\n",
      " [ 3 61  4  2]\n",
      " [61 62  2 63]\n",
      " [62  4 63 64]\n",
      " [ 4  2 64 65]\n",
      " [ 2 63 65 66]\n",
      " [63 64 66 67]\n",
      " [64 65 67 12]\n",
      " [65 66 12  5]\n",
      " [66 67  5  1]\n",
      " [67 12  1 68]\n",
      " [12  5 68 69]\n",
      " [ 5  1 69 70]\n",
      " [ 1 68 70 71]\n",
      " [68 69 71  1]\n",
      " [69 70  1 72]]\n"
     ]
    }
   ],
   "source": [
    "print(X)"
   ]
  },
  {
   "cell_type": "code",
   "execution_count": 24,
   "id": "5e532d49-58f2-41f2-af24-0f2979d4fcda",
   "metadata": {},
   "outputs": [
    {
     "name": "stdout",
     "output_type": "stream",
     "text": [
      "[14  4  2 15 16 17 18 19  3 20  1 21  6 23 24 25  7 26 27  8 28  7 29 30\n",
      " 31 32 33 34 38 39 40  9 10 11 41 42  1 43  9 10 11 44  5  8 45 46  3 47\n",
      " 48 49 50 51 55  3 56 57 12 58 59 60  3 61 62  4  2 63 64 65 66 67 12  5\n",
      "  1 68 69 70 71]\n"
     ]
    }
   ],
   "source": [
    "print(Y)"
   ]
  },
  {
   "cell_type": "code",
   "execution_count": 26,
   "id": "e4dbdfe5-0afc-44c1-85b8-244af2d5631a",
   "metadata": {},
   "outputs": [],
   "source": [
    "import tensorflow as tf\n",
    "from tensorflow.keras.models import Sequential\n",
    "from tensorflow.keras.layers import Dense, Embedding, Lambda "
   ]
  },
  {
   "cell_type": "code",
   "execution_count": 28,
   "id": "9dfc1ab0-2ced-44b4-8394-7b3af0cf8448",
   "metadata": {},
   "outputs": [],
   "source": [
    "\n",
    "model = Sequential([\n",
    "    Embedding(input_dim=vocab_size, output_dim=emb_size),\n",
    "    Lambda(lambda x: tf.reduce_mean(x, axis=1)),\n",
    "    Dense(256, activation='relu'),\n",
    "    Dense(512, activation='relu'),\n",
    "    Dense(vocab_size, activation='softmax')\n",
    "])"
   ]
  },
  {
   "cell_type": "code",
   "execution_count": 30,
   "id": "93ae5c09-fa05-45e5-b2df-ec2a6e22bf4d",
   "metadata": {},
   "outputs": [],
   "source": [
    "model.compile(loss='sparse_categorical_crossentropy', optimizer='adam', metrics=['accuracy'])"
   ]
  },
  {
   "cell_type": "code",
   "execution_count": 32,
   "id": "a0431945-32a8-4b22-b1ac-cc15ae81d2c0",
   "metadata": {},
   "outputs": [
    {
     "name": "stdout",
     "output_type": "stream",
     "text": [
      "Epoch 1/80\n",
      "WARNING:tensorflow:From C:\\Users\\Krishna\\anaconda3\\Lib\\site-packages\\keras\\src\\backend\\tensorflow\\core.py:204: The name tf.placeholder is deprecated. Please use tf.compat.v1.placeholder instead.\n",
      "\n",
      "\u001b[1m3/3\u001b[0m \u001b[32m━━━━━━━━━━━━━━━━━━━━\u001b[0m\u001b[37m\u001b[0m \u001b[1m3s\u001b[0m 13ms/step - accuracy: 0.0000e+00 - loss: 4.2910\n",
      "Epoch 2/80\n",
      "\u001b[1m3/3\u001b[0m \u001b[32m━━━━━━━━━━━━━━━━━━━━\u001b[0m\u001b[37m\u001b[0m \u001b[1m0s\u001b[0m 5ms/step - accuracy: 0.1092 - loss: 4.2845\n",
      "Epoch 3/80\n",
      "\u001b[1m3/3\u001b[0m \u001b[32m━━━━━━━━━━━━━━━━━━━━\u001b[0m\u001b[37m\u001b[0m \u001b[1m0s\u001b[0m 5ms/step - accuracy: 0.0676 - loss: 4.2779\n",
      "Epoch 4/80\n",
      "\u001b[1m3/3\u001b[0m \u001b[32m━━━━━━━━━━━━━━━━━━━━\u001b[0m\u001b[37m\u001b[0m \u001b[1m0s\u001b[0m 4ms/step - accuracy: 0.0754 - loss: 4.2700 \n",
      "Epoch 5/80\n",
      "\u001b[1m3/3\u001b[0m \u001b[32m━━━━━━━━━━━━━━━━━━━━\u001b[0m\u001b[37m\u001b[0m \u001b[1m0s\u001b[0m 4ms/step - accuracy: 0.0754 - loss: 4.2588 \n",
      "Epoch 6/80\n",
      "\u001b[1m3/3\u001b[0m \u001b[32m━━━━━━━━━━━━━━━━━━━━\u001b[0m\u001b[37m\u001b[0m \u001b[1m0s\u001b[0m 6ms/step - accuracy: 0.0676 - loss: 4.2466\n",
      "Epoch 7/80\n",
      "\u001b[1m3/3\u001b[0m \u001b[32m━━━━━━━━━━━━━━━━━━━━\u001b[0m\u001b[37m\u001b[0m \u001b[1m0s\u001b[0m 7ms/step - accuracy: 0.0572 - loss: 4.2314\n",
      "Epoch 8/80\n",
      "\u001b[1m3/3\u001b[0m \u001b[32m━━━━━━━━━━━━━━━━━━━━\u001b[0m\u001b[37m\u001b[0m \u001b[1m0s\u001b[0m 9ms/step - accuracy: 0.0650 - loss: 4.2015\n",
      "Epoch 9/80\n",
      "\u001b[1m3/3\u001b[0m \u001b[32m━━━━━━━━━━━━━━━━━━━━\u001b[0m\u001b[37m\u001b[0m \u001b[1m0s\u001b[0m 5ms/step - accuracy: 0.0494 - loss: 4.1740\n",
      "Epoch 10/80\n",
      "\u001b[1m3/3\u001b[0m \u001b[32m━━━━━━━━━━━━━━━━━━━━\u001b[0m\u001b[37m\u001b[0m \u001b[1m0s\u001b[0m 7ms/step - accuracy: 0.0559 - loss: 4.1304\n",
      "Epoch 11/80\n",
      "\u001b[1m3/3\u001b[0m \u001b[32m━━━━━━━━━━━━━━━━━━━━\u001b[0m\u001b[37m\u001b[0m \u001b[1m0s\u001b[0m 5ms/step - accuracy: 0.0911 - loss: 4.0744\n",
      "Epoch 12/80\n",
      "\u001b[1m3/3\u001b[0m \u001b[32m━━━━━━━━━━━━━━━━━━━━\u001b[0m\u001b[37m\u001b[0m \u001b[1m0s\u001b[0m 7ms/step - accuracy: 0.0520 - loss: 4.0346   \n",
      "Epoch 13/80\n",
      "\u001b[1m3/3\u001b[0m \u001b[32m━━━━━━━━━━━━━━━━━━━━\u001b[0m\u001b[37m\u001b[0m \u001b[1m0s\u001b[0m 4ms/step - accuracy: 0.0637 - loss: 3.9771\n",
      "Epoch 14/80\n",
      "\u001b[1m3/3\u001b[0m \u001b[32m━━━━━━━━━━━━━━━━━━━━\u001b[0m\u001b[37m\u001b[0m \u001b[1m0s\u001b[0m 5ms/step - accuracy: 0.0637 - loss: 3.9031\n",
      "Epoch 15/80\n",
      "\u001b[1m3/3\u001b[0m \u001b[32m━━━━━━━━━━━━━━━━━━━━\u001b[0m\u001b[37m\u001b[0m \u001b[1m0s\u001b[0m 7ms/step - accuracy: 0.0832 - loss: 3.8308\n",
      "Epoch 16/80\n",
      "\u001b[1m3/3\u001b[0m \u001b[32m━━━━━━━━━━━━━━━━━━━━\u001b[0m\u001b[37m\u001b[0m \u001b[1m0s\u001b[0m 7ms/step - accuracy: 0.0533 - loss: 3.8048\n",
      "Epoch 17/80\n",
      "\u001b[1m3/3\u001b[0m \u001b[32m━━━━━━━━━━━━━━━━━━━━\u001b[0m\u001b[37m\u001b[0m \u001b[1m0s\u001b[0m 6ms/step - accuracy: 0.0832 - loss: 3.7501\n",
      "Epoch 18/80\n",
      "\u001b[1m3/3\u001b[0m \u001b[32m━━━━━━━━━━━━━━━━━━━━\u001b[0m\u001b[37m\u001b[0m \u001b[1m0s\u001b[0m 5ms/step - accuracy: 0.1170 - loss: 3.6084\n",
      "Epoch 19/80\n",
      "\u001b[1m3/3\u001b[0m \u001b[32m━━━━━━━━━━━━━━━━━━━━\u001b[0m\u001b[37m\u001b[0m \u001b[1m0s\u001b[0m 6ms/step - accuracy: 0.1131 - loss: 3.5668\n",
      "Epoch 20/80\n",
      "\u001b[1m3/3\u001b[0m \u001b[32m━━━━━━━━━━━━━━━━━━━━\u001b[0m\u001b[37m\u001b[0m \u001b[1m0s\u001b[0m 4ms/step - accuracy: 0.1313 - loss: 3.4549\n",
      "Epoch 21/80\n",
      "\u001b[1m3/3\u001b[0m \u001b[32m━━━━━━━━━━━━━━━━━━━━\u001b[0m\u001b[37m\u001b[0m \u001b[1m0s\u001b[0m 4ms/step - accuracy: 0.1496 - loss: 3.2943\n",
      "Epoch 22/80\n",
      "\u001b[1m3/3\u001b[0m \u001b[32m━━━━━━━━━━━━━━━━━━━━\u001b[0m\u001b[37m\u001b[0m \u001b[1m0s\u001b[0m 7ms/step - accuracy: 0.1872 - loss: 3.2277\n",
      "Epoch 23/80\n",
      "\u001b[1m3/3\u001b[0m \u001b[32m━━━━━━━━━━━━━━━━━━━━\u001b[0m\u001b[37m\u001b[0m \u001b[1m0s\u001b[0m 8ms/step - accuracy: 0.1729 - loss: 3.1047\n",
      "Epoch 24/80\n",
      "\u001b[1m3/3\u001b[0m \u001b[32m━━━━━━━━━━━━━━━━━━━━\u001b[0m\u001b[37m\u001b[0m \u001b[1m0s\u001b[0m 4ms/step - accuracy: 0.2106 - loss: 2.9753 \n",
      "Epoch 25/80\n",
      "\u001b[1m3/3\u001b[0m \u001b[32m━━━━━━━━━━━━━━━━━━━━\u001b[0m\u001b[37m\u001b[0m \u001b[1m0s\u001b[0m 5ms/step - accuracy: 0.2120 - loss: 2.9059\n",
      "Epoch 26/80\n",
      "\u001b[1m3/3\u001b[0m \u001b[32m━━━━━━━━━━━━━━━━━━━━\u001b[0m\u001b[37m\u001b[0m \u001b[1m0s\u001b[0m 7ms/step - accuracy: 0.2224 - loss: 2.7909\n",
      "Epoch 27/80\n",
      "\u001b[1m3/3\u001b[0m \u001b[32m━━━━━━━━━━━━━━━━━━━━\u001b[0m\u001b[37m\u001b[0m \u001b[1m0s\u001b[0m 6ms/step - accuracy: 0.2484 - loss: 2.6735\n",
      "Epoch 28/80\n",
      "\u001b[1m3/3\u001b[0m \u001b[32m━━━━━━━━━━━━━━━━━━━━\u001b[0m\u001b[37m\u001b[0m \u001b[1m0s\u001b[0m 4ms/step - accuracy: 0.2783 - loss: 2.5499 \n",
      "Epoch 29/80\n",
      "\u001b[1m3/3\u001b[0m \u001b[32m━━━━━━━━━━━━━━━━━━━━\u001b[0m\u001b[37m\u001b[0m \u001b[1m0s\u001b[0m 6ms/step - accuracy: 0.3251 - loss: 2.4179\n",
      "Epoch 30/80\n",
      "\u001b[1m3/3\u001b[0m \u001b[32m━━━━━━━━━━━━━━━━━━━━\u001b[0m\u001b[37m\u001b[0m \u001b[1m0s\u001b[0m 5ms/step - accuracy: 0.3368 - loss: 2.3438\n",
      "Epoch 31/80\n",
      "\u001b[1m3/3\u001b[0m \u001b[32m━━━━━━━━━━━━━━━━━━━━\u001b[0m\u001b[37m\u001b[0m \u001b[1m0s\u001b[0m 4ms/step - accuracy: 0.4057 - loss: 2.1927\n",
      "Epoch 32/80\n",
      "\u001b[1m3/3\u001b[0m \u001b[32m━━━━━━━━━━━━━━━━━━━━\u001b[0m\u001b[37m\u001b[0m \u001b[1m0s\u001b[0m 4ms/step - accuracy: 0.4577 - loss: 2.1610\n",
      "Epoch 33/80\n",
      "\u001b[1m3/3\u001b[0m \u001b[32m━━━━━━━━━━━━━━━━━━━━\u001b[0m\u001b[37m\u001b[0m \u001b[1m0s\u001b[0m 7ms/step - accuracy: 0.4460 - loss: 2.0250\n",
      "Epoch 34/80\n",
      "\u001b[1m3/3\u001b[0m \u001b[32m━━━━━━━━━━━━━━━━━━━━\u001b[0m\u001b[37m\u001b[0m \u001b[1m0s\u001b[0m 7ms/step - accuracy: 0.5020 - loss: 1.9208\n",
      "Epoch 35/80\n",
      "\u001b[1m3/3\u001b[0m \u001b[32m━━━━━━━━━━━━━━━━━━━━\u001b[0m\u001b[37m\u001b[0m \u001b[1m0s\u001b[0m 7ms/step - accuracy: 0.5397 - loss: 1.8324\n",
      "Epoch 36/80\n",
      "\u001b[1m3/3\u001b[0m \u001b[32m━━━━━━━━━━━━━━━━━━━━\u001b[0m\u001b[37m\u001b[0m \u001b[1m0s\u001b[0m 6ms/step - accuracy: 0.6268 - loss: 1.7156\n",
      "Epoch 37/80\n",
      "\u001b[1m3/3\u001b[0m \u001b[32m━━━━━━━━━━━━━━━━━━━━\u001b[0m\u001b[37m\u001b[0m \u001b[1m0s\u001b[0m 4ms/step - accuracy: 0.6567 - loss: 1.6714 \n",
      "Epoch 38/80\n",
      "\u001b[1m3/3\u001b[0m \u001b[32m━━━━━━━━━━━━━━━━━━━━\u001b[0m\u001b[37m\u001b[0m \u001b[1m0s\u001b[0m 5ms/step - accuracy: 0.6840 - loss: 1.5960\n",
      "Epoch 39/80\n",
      "\u001b[1m3/3\u001b[0m \u001b[32m━━━━━━━━━━━━━━━━━━━━\u001b[0m\u001b[37m\u001b[0m \u001b[1m0s\u001b[0m 3ms/step - accuracy: 0.6384 - loss: 1.5452 \n",
      "Epoch 40/80\n",
      "\u001b[1m3/3\u001b[0m \u001b[32m━━━━━━━━━━━━━━━━━━━━\u001b[0m\u001b[37m\u001b[0m \u001b[1m0s\u001b[0m 5ms/step - accuracy: 0.6684 - loss: 1.4379\n",
      "Epoch 41/80\n",
      "\u001b[1m3/3\u001b[0m \u001b[32m━━━━━━━━━━━━━━━━━━━━\u001b[0m\u001b[37m\u001b[0m \u001b[1m0s\u001b[0m 8ms/step - accuracy: 0.6229 - loss: 1.3842\n",
      "Epoch 42/80\n",
      "\u001b[1m3/3\u001b[0m \u001b[32m━━━━━━━━━━━━━━━━━━━━\u001b[0m\u001b[37m\u001b[0m \u001b[1m0s\u001b[0m 6ms/step - accuracy: 0.6892 - loss: 1.2607\n",
      "Epoch 43/80\n",
      "\u001b[1m3/3\u001b[0m \u001b[32m━━━━━━━━━━━━━━━━━━━━\u001b[0m\u001b[37m\u001b[0m \u001b[1m0s\u001b[0m 8ms/step - accuracy: 0.7022 - loss: 1.2385\n",
      "Epoch 44/80\n",
      "\u001b[1m3/3\u001b[0m \u001b[32m━━━━━━━━━━━━━━━━━━━━\u001b[0m\u001b[37m\u001b[0m \u001b[1m0s\u001b[0m 6ms/step - accuracy: 0.7841 - loss: 1.1592\n",
      "Epoch 45/80\n",
      "\u001b[1m3/3\u001b[0m \u001b[32m━━━━━━━━━━━━━━━━━━━━\u001b[0m\u001b[37m\u001b[0m \u001b[1m0s\u001b[0m 5ms/step - accuracy: 0.7984 - loss: 1.0971\n",
      "Epoch 46/80\n",
      "\u001b[1m3/3\u001b[0m \u001b[32m━━━━━━━━━━━━━━━━━━━━\u001b[0m\u001b[37m\u001b[0m \u001b[1m0s\u001b[0m 8ms/step - accuracy: 0.7867 - loss: 1.0197\n",
      "Epoch 47/80\n",
      "\u001b[1m3/3\u001b[0m \u001b[32m━━━━━━━━━━━━━━━━━━━━\u001b[0m\u001b[37m\u001b[0m \u001b[1m0s\u001b[0m 5ms/step - accuracy: 0.8218 - loss: 0.9926\n",
      "Epoch 48/80\n",
      "\u001b[1m3/3\u001b[0m \u001b[32m━━━━━━━━━━━━━━━━━━━━\u001b[0m\u001b[37m\u001b[0m \u001b[1m0s\u001b[0m 6ms/step - accuracy: 0.8960 - loss: 0.9044\n",
      "Epoch 49/80\n",
      "\u001b[1m3/3\u001b[0m \u001b[32m━━━━━━━━━━━━━━━━━━━━\u001b[0m\u001b[37m\u001b[0m \u001b[1m0s\u001b[0m 5ms/step - accuracy: 0.8856 - loss: 0.8713\n",
      "Epoch 50/80\n",
      "\u001b[1m3/3\u001b[0m \u001b[32m━━━━━━━━━━━━━━━━━━━━\u001b[0m\u001b[37m\u001b[0m \u001b[1m0s\u001b[0m 5ms/step - accuracy: 0.9233 - loss: 0.7973\n",
      "Epoch 51/80\n",
      "\u001b[1m3/3\u001b[0m \u001b[32m━━━━━━━━━━━━━━━━━━━━\u001b[0m\u001b[37m\u001b[0m \u001b[1m0s\u001b[0m 7ms/step - accuracy: 0.9077 - loss: 0.7883\n",
      "Epoch 52/80\n",
      "\u001b[1m3/3\u001b[0m \u001b[32m━━━━━━━━━━━━━━━━━━━━\u001b[0m\u001b[37m\u001b[0m \u001b[1m0s\u001b[0m 5ms/step - accuracy: 0.9337 - loss: 0.7136\n",
      "Epoch 53/80\n",
      "\u001b[1m3/3\u001b[0m \u001b[32m━━━━━━━━━━━━━━━━━━━━\u001b[0m\u001b[37m\u001b[0m \u001b[1m0s\u001b[0m 5ms/step - accuracy: 0.9324 - loss: 0.6841\n",
      "Epoch 54/80\n",
      "\u001b[1m3/3\u001b[0m \u001b[32m━━━━━━━━━━━━━━━━━━━━\u001b[0m\u001b[37m\u001b[0m \u001b[1m0s\u001b[0m 5ms/step - accuracy: 0.9220 - loss: 0.6191\n",
      "Epoch 55/80\n",
      "\u001b[1m3/3\u001b[0m \u001b[32m━━━━━━━━━━━━━━━━━━━━\u001b[0m\u001b[37m\u001b[0m \u001b[1m0s\u001b[0m 5ms/step - accuracy: 0.9233 - loss: 0.5917\n",
      "Epoch 56/80\n",
      "\u001b[1m3/3\u001b[0m \u001b[32m━━━━━━━━━━━━━━━━━━━━\u001b[0m\u001b[37m\u001b[0m \u001b[1m0s\u001b[0m 5ms/step - accuracy: 0.9506 - loss: 0.5521\n",
      "Epoch 57/80\n",
      "\u001b[1m3/3\u001b[0m \u001b[32m━━━━━━━━━━━━━━━━━━━━\u001b[0m\u001b[37m\u001b[0m \u001b[1m0s\u001b[0m 4ms/step - accuracy: 0.9350 - loss: 0.5130\n",
      "Epoch 58/80\n",
      "\u001b[1m3/3\u001b[0m \u001b[32m━━━━━━━━━━━━━━━━━━━━\u001b[0m\u001b[37m\u001b[0m \u001b[1m0s\u001b[0m 4ms/step - accuracy: 0.9610 - loss: 0.4886 \n",
      "Epoch 59/80\n",
      "\u001b[1m3/3\u001b[0m \u001b[32m━━━━━━━━━━━━━━━━━━━━\u001b[0m\u001b[37m\u001b[0m \u001b[1m0s\u001b[0m 3ms/step - accuracy: 0.9545 - loss: 0.4497 \n",
      "Epoch 60/80\n",
      "\u001b[1m3/3\u001b[0m \u001b[32m━━━━━━━━━━━━━━━━━━━━\u001b[0m\u001b[37m\u001b[0m \u001b[1m0s\u001b[0m 3ms/step - accuracy: 0.9571 - loss: 0.4208 \n",
      "Epoch 61/80\n",
      "\u001b[1m3/3\u001b[0m \u001b[32m━━━━━━━━━━━━━━━━━━━━\u001b[0m\u001b[37m\u001b[0m \u001b[1m0s\u001b[0m 3ms/step - accuracy: 0.9623 - loss: 0.3813 \n",
      "Epoch 62/80\n",
      "\u001b[1m3/3\u001b[0m \u001b[32m━━━━━━━━━━━━━━━━━━━━\u001b[0m\u001b[37m\u001b[0m \u001b[1m0s\u001b[0m 4ms/step - accuracy: 0.9714 - loss: 0.3804\n",
      "Epoch 63/80\n",
      "\u001b[1m3/3\u001b[0m \u001b[32m━━━━━━━━━━━━━━━━━━━━\u001b[0m\u001b[37m\u001b[0m \u001b[1m0s\u001b[0m 3ms/step - accuracy: 1.0000 - loss: 0.3366\n",
      "Epoch 64/80\n",
      "\u001b[1m3/3\u001b[0m \u001b[32m━━━━━━━━━━━━━━━━━━━━\u001b[0m\u001b[37m\u001b[0m \u001b[1m0s\u001b[0m 5ms/step - accuracy: 1.0000 - loss: 0.3088\n",
      "Epoch 65/80\n",
      "\u001b[1m3/3\u001b[0m \u001b[32m━━━━━━━━━━━━━━━━━━━━\u001b[0m\u001b[37m\u001b[0m \u001b[1m0s\u001b[0m 6ms/step - accuracy: 1.0000 - loss: 0.2845\n",
      "Epoch 66/80\n",
      "\u001b[1m3/3\u001b[0m \u001b[32m━━━━━━━━━━━━━━━━━━━━\u001b[0m\u001b[37m\u001b[0m \u001b[1m0s\u001b[0m 6ms/step - accuracy: 1.0000 - loss: 0.2706\n",
      "Epoch 67/80\n",
      "\u001b[1m3/3\u001b[0m \u001b[32m━━━━━━━━━━━━━━━━━━━━\u001b[0m\u001b[37m\u001b[0m \u001b[1m0s\u001b[0m 4ms/step - accuracy: 0.9896 - loss: 0.2557\n",
      "Epoch 68/80\n",
      "\u001b[1m3/3\u001b[0m \u001b[32m━━━━━━━━━━━━━━━━━━━━\u001b[0m\u001b[37m\u001b[0m \u001b[1m0s\u001b[0m 6ms/step - accuracy: 0.9896 - loss: 0.2306\n",
      "Epoch 69/80\n",
      "\u001b[1m3/3\u001b[0m \u001b[32m━━━━━━━━━━━━━━━━━━━━\u001b[0m\u001b[37m\u001b[0m \u001b[1m0s\u001b[0m 5ms/step - accuracy: 0.9935 - loss: 0.2281\n",
      "Epoch 70/80\n",
      "\u001b[1m3/3\u001b[0m \u001b[32m━━━━━━━━━━━━━━━━━━━━\u001b[0m\u001b[37m\u001b[0m \u001b[1m0s\u001b[0m 5ms/step - accuracy: 1.0000 - loss: 0.2026\n",
      "Epoch 71/80\n",
      "\u001b[1m3/3\u001b[0m \u001b[32m━━━━━━━━━━━━━━━━━━━━\u001b[0m\u001b[37m\u001b[0m \u001b[1m0s\u001b[0m 4ms/step - accuracy: 1.0000 - loss: 0.1915\n",
      "Epoch 72/80\n",
      "\u001b[1m3/3\u001b[0m \u001b[32m━━━━━━━━━━━━━━━━━━━━\u001b[0m\u001b[37m\u001b[0m \u001b[1m0s\u001b[0m 5ms/step - accuracy: 0.9818 - loss: 0.1940\n",
      "Epoch 73/80\n",
      "\u001b[1m3/3\u001b[0m \u001b[32m━━━━━━━━━━━━━━━━━━━━\u001b[0m\u001b[37m\u001b[0m \u001b[1m0s\u001b[0m 3ms/step - accuracy: 0.9818 - loss: 0.1796 \n",
      "Epoch 74/80\n",
      "\u001b[1m3/3\u001b[0m \u001b[32m━━━━━━━━━━━━━━━━━━━━\u001b[0m\u001b[37m\u001b[0m \u001b[1m0s\u001b[0m 3ms/step - accuracy: 1.0000 - loss: 0.1644 \n",
      "Epoch 75/80\n",
      "\u001b[1m3/3\u001b[0m \u001b[32m━━━━━━━━━━━━━━━━━━━━\u001b[0m\u001b[37m\u001b[0m \u001b[1m0s\u001b[0m 5ms/step - accuracy: 1.0000 - loss: 0.1449\n",
      "Epoch 76/80\n",
      "\u001b[1m3/3\u001b[0m \u001b[32m━━━━━━━━━━━━━━━━━━━━\u001b[0m\u001b[37m\u001b[0m \u001b[1m0s\u001b[0m 5ms/step - accuracy: 1.0000 - loss: 0.1371\n",
      "Epoch 77/80\n",
      "\u001b[1m3/3\u001b[0m \u001b[32m━━━━━━━━━━━━━━━━━━━━\u001b[0m\u001b[37m\u001b[0m \u001b[1m0s\u001b[0m 4ms/step - accuracy: 1.0000 - loss: 0.1238\n",
      "Epoch 78/80\n",
      "\u001b[1m3/3\u001b[0m \u001b[32m━━━━━━━━━━━━━━━━━━━━\u001b[0m\u001b[37m\u001b[0m \u001b[1m0s\u001b[0m 5ms/step - accuracy: 1.0000 - loss: 0.1273\n",
      "Epoch 79/80\n",
      "\u001b[1m3/3\u001b[0m \u001b[32m━━━━━━━━━━━━━━━━━━━━\u001b[0m\u001b[37m\u001b[0m \u001b[1m0s\u001b[0m 4ms/step - accuracy: 1.0000 - loss: 0.1152\n",
      "Epoch 80/80\n",
      "\u001b[1m3/3\u001b[0m \u001b[32m━━━━━━━━━━━━━━━━━━━━\u001b[0m\u001b[37m\u001b[0m \u001b[1m0s\u001b[0m 5ms/step - accuracy: 1.0000 - loss: 0.1101\n"
     ]
    }
   ],
   "source": [
    "history = model.fit(X, Y, epochs=80)"
   ]
  },
  {
   "cell_type": "code",
   "execution_count": 34,
   "id": "72a0701d-e16a-4557-b48b-41f95648a246",
   "metadata": {},
   "outputs": [
    {
     "data": {
      "text/plain": [
       "<Axes: >"
      ]
     },
     "execution_count": 34,
     "metadata": {},
     "output_type": "execute_result"
    },
    {
     "data": {
      "image/png": "[encoded data removed]",
      "text/plain": [
       "<Figure size 640x480 with 1 Axes>"
      ]
     },
     "metadata": {},
     "output_type": "display_data"
    }
   ],
   "source": [
    "import seaborn as sns\n",
    "sns.lineplot(model.history.history)"
   ]
  },
  {
   "cell_type": "code",
   "execution_count": 36,
   "id": "f5892130-560f-4cb2-9f30-2571918eaa65",
   "metadata": {},
   "outputs": [
    {
     "name": "stdout",
     "output_type": "stream",
     "text": [
      "Machine learning, particularly deep learning, has become a powerful tool in analyzing and understanding complex data. Deep learning models, built on layers of interconnected neurons, are capable of identifying intricate patterns that traditional algorithms may miss. These models, which include convolutional neural networks for image processing and recurrent neural networks for sequential data, are widely applied in sectors such as healthcare, finance, and entertainment. From detecting anomalies in medical imaging to enhancing personalized recommendations in streaming platforms, deep learning enables innovative solutions by adapting to data and continuously improving its accuracy and efficiency.\n"
     ]
    }
   ],
   "source": [
    "print(\"\"\"Machine learning, particularly deep learning, has become a powerful tool in analyzing and understanding complex data. Deep learning models, built on layers of interconnected neurons, are capable of identifying intricate patterns that traditional algorithms may miss. These models, which include convolutional neural networks for image processing and recurrent neural networks for sequential data, are widely applied in sectors such as healthcare, finance, and entertainment. From detecting anomalies in medical imaging to enhancing personalized recommendations in streaming platforms, deep learning enables innovative solutions by adapting to data and continuously improving its accuracy and efficiency.\"\"\")"
   ]
  },
  {
   "cell_type": "code",
   "execution_count": 38,
   "id": "f4571b4f-9daa-4fe1-9721-ad6e6caec5bb",
   "metadata": {},
   "outputs": [],
   "source": [
    "test_sentenses = [\n",
    "    \"particularly learning\"\n",
    "]"
   ]
  },
  {
   "cell_type": "code",
   "execution_count": 40,
   "id": "27bf799e-ae50-4210-8ab5-17f482ae7510",
   "metadata": {},
   "outputs": [
    {
     "name": "stdout",
     "output_type": "stream",
     "text": [
      "\u001b[1m1/1\u001b[0m \u001b[32m━━━━━━━━━━━━━━━━━━━━\u001b[0m\u001b[37m\u001b[0m \u001b[1m0s\u001b[0m 122ms/step\n",
      "pred  ['particularly', 'learning'] \n",
      "= deep \n",
      "\n",
      "\n"
     ]
    }
   ],
   "source": [
    "for sent in test_sentenses:\n",
    "    test_words = sent.split(\" \")\n",
    "    x_test =[]\n",
    "    for i in test_words:\n",
    "        x_test.append(word_to_index.get(i))\n",
    "    x_test = np.array([x_test])   \n",
    "    pred = model.predict(x_test)\n",
    "    pred = np.argmax(pred[0])\n",
    "    print(\"pred \", test_words, \"\\n=\", index_to_word.get(pred),\"\\n\\n\")"
   ]
  },
  {
   "cell_type": "code",
   "execution_count": null,
   "id": "e3bdad32-818d-43a1-b747-6d55da5e8dc4",
   "metadata": {},
   "outputs": [],
   "source": []
  }
 ],
 "metadata": {
  "kernelspec": {
   "display_name": "Python 3 (ipykernel)",
   "language": "python",
   "name": "python3"
  },
  "language_info": {
   "codemirror_mode": {
    "name": "ipython",
    "version": 3
   },
   "file_extension": ".py",
   "mimetype": "text/x-python",
   "name": "python",
   "nbconvert_exporter": "python",
   "pygments_lexer": "ipython3",
   "version": "3.12.7"
  }
 },
 "nbformat": 4,
 "nbformat_minor": 5
}
